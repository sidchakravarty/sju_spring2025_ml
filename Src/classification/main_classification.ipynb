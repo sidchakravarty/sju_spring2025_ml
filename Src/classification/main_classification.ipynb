{
 "cells": [
  {
   "cell_type": "code",
   "execution_count": 1,
   "metadata": {},
   "outputs": [],
   "source": [
    "import numpy as np\n",
    "import pandas as pd\n",
    "import matplotlib.pyplot as plt\n",
    "import seaborn as sns\n",
    "from sklearn.model_selection import train_test_split\n",
    "from sklearn.linear_model import LogisticRegression\n",
    "from sklearn.tree import DecisionTreeClassifier\n",
    "from sklearn.neighbors import KNeighborsClassifier\n",
    "from sklearn.naive_bayes import GaussianNB\n",
    "from sklearn.svm import SVC\n",
    "import wandb\n",
    "import graphviz\n",
    "from sklearn.preprocessing import MinMaxScaler\n",
    "from sklearn.tree import export_graphviz\n",
    "from sklearn.model_selection import cross_val_score\n",
    "from sklearn.metrics import accuracy_score, precision_score, recall_score, f1_score, classification_report, confusion_matrix"
   ]
  },
  {
   "cell_type": "code",
   "execution_count": 2,
   "metadata": {},
   "outputs": [
    {
     "data": {
      "application/vnd.microsoft.datawrangler.viewer.v0+json": {
       "columns": [
        {
         "name": "index",
         "rawType": "int64",
         "type": "integer"
        },
        {
         "name": "income",
         "rawType": "float64",
         "type": "float"
        },
        {
         "name": "credit_score",
         "rawType": "float64",
         "type": "float"
        },
        {
         "name": "house_size",
         "rawType": "int64",
         "type": "integer"
        },
        {
         "name": "location",
         "rawType": "object",
         "type": "string"
        },
        {
         "name": "property_type",
         "rawType": "object",
         "type": "string"
        },
        {
         "name": "listing_date",
         "rawType": "object",
         "type": "string"
        },
        {
         "name": "realtor_rating",
         "rawType": "float64",
         "type": "float"
        },
        {
         "name": "flood_risk",
         "rawType": "object",
         "type": "string"
        },
        {
         "name": "crime_rate",
         "rawType": "float64",
         "type": "float"
        },
        {
         "name": "purchase_decision",
         "rawType": "object",
         "type": "string"
        }
       ],
       "conversionMethod": "pd.DataFrame",
       "ref": "23961896-acd1-4789-a7d8-5aef47a4f675",
       "rows": [
        [
         "0",
         "79934.28306022465",
         "426.0",
         "2148",
         "suburb",
         "Multi-Family",
         "18.4.2023",
         "2.67442909967332",
         "Low",
         "36.50423788448468",
         "not buy"
        ],
        [
         "1",
         "67234.71397657631",
         "313.0",
         "2144",
         "suburb",
         "Townhouse",
         "2019-03-14",
         "2.833725696525752",
         "High",
         "45.847862320947286",
         "buy"
        ],
        [
         "2",
         "82953.77076201385",
         "311.0",
         "1845",
         "downtown",
         "Townhouse",
         "7/26/2019",
         "3.900024305196475",
         "High",
         "50.34027411072232",
         "not buy"
        ],
        [
         "3",
         "100460.5971281605",
         "386.0",
         "1102",
         "rural",
         "Multi-Family",
         "12/28/2020",
         "3.297150300360844",
         "Medium",
         "51.11372601840053",
         "buy"
        ],
        [
         "4",
         "65316.93250553328",
         "823.0",
         "1274",
         "rural",
         "Multi-Family",
         "10.1.2019",
         "3.668849348776724",
         "High",
         "48.20906714983844",
         "buy"
        ]
       ],
       "shape": {
        "columns": 10,
        "rows": 5
       }
      },
      "text/html": [
       "<div>\n",
       "<style scoped>\n",
       "    .dataframe tbody tr th:only-of-type {\n",
       "        vertical-align: middle;\n",
       "    }\n",
       "\n",
       "    .dataframe tbody tr th {\n",
       "        vertical-align: top;\n",
       "    }\n",
       "\n",
       "    .dataframe thead th {\n",
       "        text-align: right;\n",
       "    }\n",
       "</style>\n",
       "<table border=\"1\" class=\"dataframe\">\n",
       "  <thead>\n",
       "    <tr style=\"text-align: right;\">\n",
       "      <th></th>\n",
       "      <th>income</th>\n",
       "      <th>credit_score</th>\n",
       "      <th>house_size</th>\n",
       "      <th>location</th>\n",
       "      <th>property_type</th>\n",
       "      <th>listing_date</th>\n",
       "      <th>realtor_rating</th>\n",
       "      <th>flood_risk</th>\n",
       "      <th>crime_rate</th>\n",
       "      <th>purchase_decision</th>\n",
       "    </tr>\n",
       "  </thead>\n",
       "  <tbody>\n",
       "    <tr>\n",
       "      <th>0</th>\n",
       "      <td>79934.283060</td>\n",
       "      <td>426.0</td>\n",
       "      <td>2148</td>\n",
       "      <td>suburb</td>\n",
       "      <td>Multi-Family</td>\n",
       "      <td>18.4.2023</td>\n",
       "      <td>2.674429</td>\n",
       "      <td>Low</td>\n",
       "      <td>36.504238</td>\n",
       "      <td>not buy</td>\n",
       "    </tr>\n",
       "    <tr>\n",
       "      <th>1</th>\n",
       "      <td>67234.713977</td>\n",
       "      <td>313.0</td>\n",
       "      <td>2144</td>\n",
       "      <td>suburb</td>\n",
       "      <td>Townhouse</td>\n",
       "      <td>2019-03-14</td>\n",
       "      <td>2.833726</td>\n",
       "      <td>High</td>\n",
       "      <td>45.847862</td>\n",
       "      <td>buy</td>\n",
       "    </tr>\n",
       "    <tr>\n",
       "      <th>2</th>\n",
       "      <td>82953.770762</td>\n",
       "      <td>311.0</td>\n",
       "      <td>1845</td>\n",
       "      <td>downtown</td>\n",
       "      <td>Townhouse</td>\n",
       "      <td>7/26/2019</td>\n",
       "      <td>3.900024</td>\n",
       "      <td>High</td>\n",
       "      <td>50.340274</td>\n",
       "      <td>not buy</td>\n",
       "    </tr>\n",
       "    <tr>\n",
       "      <th>3</th>\n",
       "      <td>100460.597128</td>\n",
       "      <td>386.0</td>\n",
       "      <td>1102</td>\n",
       "      <td>rural</td>\n",
       "      <td>Multi-Family</td>\n",
       "      <td>12/28/2020</td>\n",
       "      <td>3.297150</td>\n",
       "      <td>Medium</td>\n",
       "      <td>51.113726</td>\n",
       "      <td>buy</td>\n",
       "    </tr>\n",
       "    <tr>\n",
       "      <th>4</th>\n",
       "      <td>65316.932506</td>\n",
       "      <td>823.0</td>\n",
       "      <td>1274</td>\n",
       "      <td>rural</td>\n",
       "      <td>Multi-Family</td>\n",
       "      <td>10.1.2019</td>\n",
       "      <td>3.668849</td>\n",
       "      <td>High</td>\n",
       "      <td>48.209067</td>\n",
       "      <td>buy</td>\n",
       "    </tr>\n",
       "  </tbody>\n",
       "</table>\n",
       "</div>"
      ],
      "text/plain": [
       "          income  credit_score  house_size  location property_type  \\\n",
       "0   79934.283060         426.0        2148    suburb  Multi-Family   \n",
       "1   67234.713977         313.0        2144    suburb     Townhouse   \n",
       "2   82953.770762         311.0        1845  downtown     Townhouse   \n",
       "3  100460.597128         386.0        1102     rural  Multi-Family   \n",
       "4   65316.932506         823.0        1274     rural  Multi-Family   \n",
       "\n",
       "  listing_date  realtor_rating flood_risk  crime_rate purchase_decision  \n",
       "0    18.4.2023        2.674429        Low   36.504238           not buy  \n",
       "1   2019-03-14        2.833726       High   45.847862               buy  \n",
       "2    7/26/2019        3.900024       High   50.340274           not buy  \n",
       "3   12/28/2020        3.297150     Medium   51.113726               buy  \n",
       "4    10.1.2019        3.668849       High   48.209067               buy  "
      ]
     },
     "execution_count": 2,
     "metadata": {},
     "output_type": "execute_result"
    }
   ],
   "source": [
    "df = pd.read_csv(\"../../Data/synthetic_housing_data (Classification).csv\")\n",
    "df.head()"
   ]
  },
  {
   "cell_type": "code",
   "execution_count": 3,
   "metadata": {},
   "outputs": [
    {
     "name": "stdout",
     "output_type": "stream",
     "text": [
      "<class 'pandas.core.frame.DataFrame'>\n",
      "RangeIndex: 1000 entries, 0 to 999\n",
      "Data columns (total 10 columns):\n",
      " #   Column             Non-Null Count  Dtype  \n",
      "---  ------             --------------  -----  \n",
      " 0   income             990 non-null    float64\n",
      " 1   credit_score       995 non-null    float64\n",
      " 2   house_size         1000 non-null   int64  \n",
      " 3   location           1000 non-null   object \n",
      " 4   property_type      1000 non-null   object \n",
      " 5   listing_date       1000 non-null   object \n",
      " 6   realtor_rating     995 non-null    float64\n",
      " 7   flood_risk         999 non-null    object \n",
      " 8   crime_rate         1000 non-null   float64\n",
      " 9   purchase_decision  1000 non-null   object \n",
      "dtypes: float64(4), int64(1), object(5)\n",
      "memory usage: 78.3+ KB\n"
     ]
    }
   ],
   "source": [
    "df.info()"
   ]
  },
  {
   "cell_type": "code",
   "execution_count": 4,
   "metadata": {},
   "outputs": [],
   "source": [
    "df.drop('listing_date', axis=1, inplace=True)"
   ]
  },
  {
   "cell_type": "code",
   "execution_count": 5,
   "metadata": {},
   "outputs": [
    {
     "name": "stdout",
     "output_type": "stream",
     "text": [
      "Categorical columns: ['location', 'property_type', 'flood_risk', 'purchase_decision']\n"
     ]
    }
   ],
   "source": [
    "categorical_columns = df.select_dtypes(include=['object']).columns.tolist()\n",
    "print(\"Categorical columns:\", categorical_columns)"
   ]
  },
  {
   "cell_type": "code",
   "execution_count": 6,
   "metadata": {},
   "outputs": [
    {
     "data": {
      "image/png": "[encoded data removed]",
      "text/plain": [
       "<Figure size 800x400 with 1 Axes>"
      ]
     },
     "metadata": {},
     "output_type": "display_data"
    },
    {
     "data": {
      "image/png": "[encoded data removed]",
      "text/plain": [
       "<Figure size 800x400 with 1 Axes>"
      ]
     },
     "metadata": {},
     "output_type": "display_data"
    },
    {
     "data": {
      "image/png": "[encoded data removed]",
      "text/plain": [
       "<Figure size 800x400 with 1 Axes>"
      ]
     },
     "metadata": {},
     "output_type": "display_data"
    },
    {
     "data": {
      "image/png": "[encoded data removed]",
      "text/plain": [
       "<Figure size 800x400 with 1 Axes>"
      ]
     },
     "metadata": {},
     "output_type": "display_data"
    }
   ],
   "source": [
    "for col in categorical_columns:\n",
    "    fig = plt.figure(figsize=(8, 4))\n",
    "    df[col].value_counts(normalize=True).plot(kind='bar')\n",
    "    plt.title(f\"Distribution of {col}\")\n",
    "    plt.show()"
   ]
  },
  {
   "cell_type": "markdown",
   "metadata": {},
   "source": [
    "SMOTE = It is used to balance the class distribution in a dataset by oversampling the minority class."
   ]
  },
  {
   "cell_type": "code",
   "execution_count": 7,
   "metadata": {},
   "outputs": [
    {
     "data": {
      "text/plain": [
       "array(['suburb', 'downtown', 'rural', 'industrial_area', 'uptown',\n",
       "       'industrial_arpa', 'suburs', 'downtowv', 'downtowj', 'downtorn',\n",
       "       'sujurb', 'suburx', 'sueurb', 'suborb', 'ruras'], dtype=object)"
      ]
     },
     "execution_count": 7,
     "metadata": {},
     "output_type": "execute_result"
    }
   ],
   "source": [
    "df['location'].unique()"
   ]
  },
  {
   "cell_type": "code",
   "execution_count": 8,
   "metadata": {},
   "outputs": [
    {
     "data": {
      "text/plain": [
       "array(['suburb', 'downtown', 'rural', 'industrial_area', 'uptown'],\n",
       "      dtype=object)"
      ]
     },
     "execution_count": 8,
     "metadata": {},
     "output_type": "execute_result"
    }
   ],
   "source": [
    "# Clean up the data\n",
    "locationReplacementValues = {\n",
    "    'industrial_arpa': 'industrial_area',\n",
    "    'suburs': 'suburb',\n",
    "    'downtowv': 'downtown',\n",
    "    'downtowj': 'downtown',\n",
    "    'downtorn': 'downtown',\n",
    "    'sujurb': 'suburb',\n",
    "    'San Antonio': 'suburb',\n",
    "    'suburx': 'suburb',\n",
    "    'sueurb': 'suburb',\n",
    "    'suborb': 'suburb',\n",
    "    'ruras': 'rural'\n",
    "}\n",
    "df['location'] = df['location'].replace(locationReplacementValues)\n",
    "df['location'].unique()"
   ]
  },
  {
   "cell_type": "code",
   "execution_count": 9,
   "metadata": {},
   "outputs": [
    {
     "name": "stdout",
     "output_type": "stream",
     "text": [
      "['Low' 'High' 'Medium']\n"
     ]
    }
   ],
   "source": [
    "values_to_drop = ['???', 'unknownRisk', 'UnknownRisk']\n",
    "df.drop(df[df['flood_risk'].isin(values_to_drop)].index, inplace=True)\n",
    "df.drop(df[df['flood_risk'].isna()].index, inplace=True)\n",
    "\n",
    "print(df['flood_risk'].unique())"
   ]
  },
  {
   "cell_type": "code",
   "execution_count": 10,
   "metadata": {},
   "outputs": [
    {
     "data": {
      "text/plain": [
       "property_type\n",
       "Townhouse        0.271357\n",
       "Multi-Family     0.255276\n",
       "Single Family    0.238191\n",
       "Condo            0.230151\n",
       "Boat House       0.002010\n",
       "Unknown          0.002010\n",
       "Container        0.001005\n",
       "Name: proportion, dtype: float64"
      ]
     },
     "execution_count": 10,
     "metadata": {},
     "output_type": "execute_result"
    }
   ],
   "source": [
    "df['property_type'].value_counts(normalize = True)"
   ]
  },
  {
   "cell_type": "code",
   "execution_count": 11,
   "metadata": {},
   "outputs": [
    {
     "data": {
      "text/plain": [
       "array(['Multi-Family', 'Townhouse', 'Condo', 'Single Family', 'Other'],\n",
       "      dtype=object)"
      ]
     },
     "execution_count": 11,
     "metadata": {},
     "output_type": "execute_result"
    }
   ],
   "source": [
    "propertyTypeReplacementValues = {\n",
    "    'Container': 'Other',\n",
    "    'Unknown': 'Other',\n",
    "    'Boat House': 'Other'\n",
    "}\n",
    "df['property_type'] = df['property_type'].replace(propertyTypeReplacementValues)\n",
    "df['property_type'].unique()"
   ]
  },
  {
   "cell_type": "code",
   "execution_count": 12,
   "metadata": {},
   "outputs": [
    {
     "data": {
      "application/vnd.microsoft.datawrangler.viewer.v0+json": {
       "columns": [
        {
         "name": "index",
         "rawType": "object",
         "type": "string"
        },
        {
         "name": "income",
         "rawType": "float64",
         "type": "float"
        },
        {
         "name": "credit_score",
         "rawType": "float64",
         "type": "float"
        },
        {
         "name": "house_size",
         "rawType": "float64",
         "type": "float"
        },
        {
         "name": "realtor_rating",
         "rawType": "float64",
         "type": "float"
        },
        {
         "name": "crime_rate",
         "rawType": "float64",
         "type": "float"
        }
       ],
       "conversionMethod": "pd.DataFrame",
       "ref": "fe533684-d44f-4717-9287-ef2137ecb63d",
       "rows": [
        [
         "count",
         "985.0",
         "990.0",
         "995.0",
         "990.0",
         "995.0"
        ],
        [
         "mean",
         "73143.27294089891",
         "581.5828282828282",
         "2014.534673366834",
         "3.0113671512009685",
         "49.85530044406513"
        ],
        [
         "std",
         "33643.0613186231",
         "160.88326947965683",
         "518.0108366774389",
         "1.4533535838853304",
         "14.937222757601074"
        ],
        [
         "min",
         "5174.653198618551",
         "300.0",
         "-97.0",
         "1.0001228753815297",
         "-6.7998388691260825"
        ],
        [
         "25%",
         "57245.200314973685",
         "447.0",
         "1681.5",
         "1.9547390844474557",
         "42.739662852010355"
        ],
        [
         "50%",
         "70928.73096312297",
         "580.0",
         "2034.0",
         "2.9356462247401027",
         "49.66074774072092"
        ],
        [
         "75%",
         "83630.01394745249",
         "718.75",
         "2368.5",
         "3.9196043533769047",
         "55.91395696755127"
        ],
        [
         "max",
         "459931.0",
         "1140.0",
         "3747.0",
         "19.032236273447072",
         "244.8180182873477"
        ]
       ],
       "shape": {
        "columns": 5,
        "rows": 8
       }
      },
      "text/html": [
       "<div>\n",
       "<style scoped>\n",
       "    .dataframe tbody tr th:only-of-type {\n",
       "        vertical-align: middle;\n",
       "    }\n",
       "\n",
       "    .dataframe tbody tr th {\n",
       "        vertical-align: top;\n",
       "    }\n",
       "\n",
       "    .dataframe thead th {\n",
       "        text-align: right;\n",
       "    }\n",
       "</style>\n",
       "<table border=\"1\" class=\"dataframe\">\n",
       "  <thead>\n",
       "    <tr style=\"text-align: right;\">\n",
       "      <th></th>\n",
       "      <th>income</th>\n",
       "      <th>credit_score</th>\n",
       "      <th>house_size</th>\n",
       "      <th>realtor_rating</th>\n",
       "      <th>crime_rate</th>\n",
       "    </tr>\n",
       "  </thead>\n",
       "  <tbody>\n",
       "    <tr>\n",
       "      <th>count</th>\n",
       "      <td>985.000000</td>\n",
       "      <td>990.000000</td>\n",
       "      <td>995.000000</td>\n",
       "      <td>990.000000</td>\n",
       "      <td>995.000000</td>\n",
       "    </tr>\n",
       "    <tr>\n",
       "      <th>mean</th>\n",
       "      <td>73143.272941</td>\n",
       "      <td>581.582828</td>\n",
       "      <td>2014.534673</td>\n",
       "      <td>3.011367</td>\n",
       "      <td>49.855300</td>\n",
       "    </tr>\n",
       "    <tr>\n",
       "      <th>std</th>\n",
       "      <td>33643.061319</td>\n",
       "      <td>160.883269</td>\n",
       "      <td>518.010837</td>\n",
       "      <td>1.453354</td>\n",
       "      <td>14.937223</td>\n",
       "    </tr>\n",
       "    <tr>\n",
       "      <th>min</th>\n",
       "      <td>5174.653199</td>\n",
       "      <td>300.000000</td>\n",
       "      <td>-97.000000</td>\n",
       "      <td>1.000123</td>\n",
       "      <td>-6.799839</td>\n",
       "    </tr>\n",
       "    <tr>\n",
       "      <th>25%</th>\n",
       "      <td>57245.200315</td>\n",
       "      <td>447.000000</td>\n",
       "      <td>1681.500000</td>\n",
       "      <td>1.954739</td>\n",
       "      <td>42.739663</td>\n",
       "    </tr>\n",
       "    <tr>\n",
       "      <th>50%</th>\n",
       "      <td>70928.730963</td>\n",
       "      <td>580.000000</td>\n",
       "      <td>2034.000000</td>\n",
       "      <td>2.935646</td>\n",
       "      <td>49.660748</td>\n",
       "    </tr>\n",
       "    <tr>\n",
       "      <th>75%</th>\n",
       "      <td>83630.013947</td>\n",
       "      <td>718.750000</td>\n",
       "      <td>2368.500000</td>\n",
       "      <td>3.919604</td>\n",
       "      <td>55.913957</td>\n",
       "    </tr>\n",
       "    <tr>\n",
       "      <th>max</th>\n",
       "      <td>459931.000000</td>\n",
       "      <td>1140.000000</td>\n",
       "      <td>3747.000000</td>\n",
       "      <td>19.032236</td>\n",
       "      <td>244.818018</td>\n",
       "    </tr>\n",
       "  </tbody>\n",
       "</table>\n",
       "</div>"
      ],
      "text/plain": [
       "              income  credit_score   house_size  realtor_rating  crime_rate\n",
       "count     985.000000    990.000000   995.000000      990.000000  995.000000\n",
       "mean    73143.272941    581.582828  2014.534673        3.011367   49.855300\n",
       "std     33643.061319    160.883269   518.010837        1.453354   14.937223\n",
       "min      5174.653199    300.000000   -97.000000        1.000123   -6.799839\n",
       "25%     57245.200315    447.000000  1681.500000        1.954739   42.739663\n",
       "50%     70928.730963    580.000000  2034.000000        2.935646   49.660748\n",
       "75%     83630.013947    718.750000  2368.500000        3.919604   55.913957\n",
       "max    459931.000000   1140.000000  3747.000000       19.032236  244.818018"
      ]
     },
     "execution_count": 12,
     "metadata": {},
     "output_type": "execute_result"
    }
   ],
   "source": [
    "df.describe()"
   ]
  },
  {
   "cell_type": "code",
   "execution_count": 13,
   "metadata": {},
   "outputs": [
    {
     "data": {
      "application/vnd.microsoft.datawrangler.viewer.v0+json": {
       "columns": [
        {
         "name": "index",
         "rawType": "object",
         "type": "string"
        },
        {
         "name": "location",
         "rawType": "object",
         "type": "unknown"
        },
        {
         "name": "property_type",
         "rawType": "object",
         "type": "unknown"
        },
        {
         "name": "flood_risk",
         "rawType": "object",
         "type": "unknown"
        },
        {
         "name": "purchase_decision",
         "rawType": "object",
         "type": "unknown"
        }
       ],
       "conversionMethod": "pd.DataFrame",
       "ref": "6bd4e5d5-d2f0-4c2d-a9fa-1be9b8188c9f",
       "rows": [
        [
         "count",
         "995",
         "995",
         "995",
         "995"
        ],
        [
         "unique",
         "5",
         "5",
         "3",
         "2"
        ],
        [
         "top",
         "uptown",
         "Townhouse",
         "High",
         "buy"
        ],
        [
         "freq",
         "207",
         "270",
         "357",
         "620"
        ]
       ],
       "shape": {
        "columns": 4,
        "rows": 4
       }
      },
      "text/html": [
       "<div>\n",
       "<style scoped>\n",
       "    .dataframe tbody tr th:only-of-type {\n",
       "        vertical-align: middle;\n",
       "    }\n",
       "\n",
       "    .dataframe tbody tr th {\n",
       "        vertical-align: top;\n",
       "    }\n",
       "\n",
       "    .dataframe thead th {\n",
       "        text-align: right;\n",
       "    }\n",
       "</style>\n",
       "<table border=\"1\" class=\"dataframe\">\n",
       "  <thead>\n",
       "    <tr style=\"text-align: right;\">\n",
       "      <th></th>\n",
       "      <th>location</th>\n",
       "      <th>property_type</th>\n",
       "      <th>flood_risk</th>\n",
       "      <th>purchase_decision</th>\n",
       "    </tr>\n",
       "  </thead>\n",
       "  <tbody>\n",
       "    <tr>\n",
       "      <th>count</th>\n",
       "      <td>995</td>\n",
       "      <td>995</td>\n",
       "      <td>995</td>\n",
       "      <td>995</td>\n",
       "    </tr>\n",
       "    <tr>\n",
       "      <th>unique</th>\n",
       "      <td>5</td>\n",
       "      <td>5</td>\n",
       "      <td>3</td>\n",
       "      <td>2</td>\n",
       "    </tr>\n",
       "    <tr>\n",
       "      <th>top</th>\n",
       "      <td>uptown</td>\n",
       "      <td>Townhouse</td>\n",
       "      <td>High</td>\n",
       "      <td>buy</td>\n",
       "    </tr>\n",
       "    <tr>\n",
       "      <th>freq</th>\n",
       "      <td>207</td>\n",
       "      <td>270</td>\n",
       "      <td>357</td>\n",
       "      <td>620</td>\n",
       "    </tr>\n",
       "  </tbody>\n",
       "</table>\n",
       "</div>"
      ],
      "text/plain": [
       "       location property_type flood_risk purchase_decision\n",
       "count       995           995        995               995\n",
       "unique        5             5          3                 2\n",
       "top      uptown     Townhouse       High               buy\n",
       "freq        207           270        357               620"
      ]
     },
     "execution_count": 13,
     "metadata": {},
     "output_type": "execute_result"
    }
   ],
   "source": [
    "df.describe(include='object')"
   ]
  },
  {
   "cell_type": "code",
   "execution_count": 14,
   "metadata": {},
   "outputs": [
    {
     "name": "stdout",
     "output_type": "stream",
     "text": [
      "<class 'pandas.core.frame.DataFrame'>\n",
      "Index: 995 entries, 0 to 999\n",
      "Data columns (total 16 columns):\n",
      " #   Column                       Non-Null Count  Dtype  \n",
      "---  ------                       --------------  -----  \n",
      " 0   income                       985 non-null    float64\n",
      " 1   credit_score                 990 non-null    float64\n",
      " 2   house_size                   995 non-null    int64  \n",
      " 3   realtor_rating               990 non-null    float64\n",
      " 4   crime_rate                   995 non-null    float64\n",
      " 5   location_industrial_area     995 non-null    int32  \n",
      " 6   location_rural               995 non-null    int32  \n",
      " 7   location_suburb              995 non-null    int32  \n",
      " 8   location_uptown              995 non-null    int32  \n",
      " 9   property_type_Multi-Family   995 non-null    int32  \n",
      " 10  property_type_Other          995 non-null    int32  \n",
      " 11  property_type_Single Family  995 non-null    int32  \n",
      " 12  property_type_Townhouse      995 non-null    int32  \n",
      " 13  flood_risk_Low               995 non-null    int32  \n",
      " 14  flood_risk_Medium            995 non-null    int32  \n",
      " 15  purchase_decision_not buy    995 non-null    int32  \n",
      "dtypes: float64(4), int32(11), int64(1)\n",
      "memory usage: 89.4 KB\n"
     ]
    }
   ],
   "source": [
    "# Use OHE encoding for categorical variables\n",
    "df = pd.get_dummies(df, columns=['location', 'property_type', 'flood_risk', 'purchase_decision'], drop_first=True, dtype=int)\n",
    "df.info()"
   ]
  },
  {
   "cell_type": "code",
   "execution_count": 15,
   "metadata": {},
   "outputs": [
    {
     "data": {
      "application/vnd.microsoft.datawrangler.viewer.v0+json": {
       "columns": [
        {
         "name": "index",
         "rawType": "int64",
         "type": "integer"
        },
        {
         "name": "income",
         "rawType": "float64",
         "type": "float"
        },
        {
         "name": "credit_score",
         "rawType": "float64",
         "type": "float"
        },
        {
         "name": "house_size",
         "rawType": "float64",
         "type": "float"
        },
        {
         "name": "realtor_rating",
         "rawType": "float64",
         "type": "float"
        },
        {
         "name": "crime_rate",
         "rawType": "float64",
         "type": "float"
        },
        {
         "name": "location_industrial_area",
         "rawType": "int32",
         "type": "integer"
        },
        {
         "name": "location_rural",
         "rawType": "int32",
         "type": "integer"
        },
        {
         "name": "location_suburb",
         "rawType": "int32",
         "type": "integer"
        },
        {
         "name": "location_uptown",
         "rawType": "int32",
         "type": "integer"
        },
        {
         "name": "property_type_Multi-Family",
         "rawType": "int32",
         "type": "integer"
        },
        {
         "name": "property_type_Other",
         "rawType": "int32",
         "type": "integer"
        },
        {
         "name": "property_type_Single Family",
         "rawType": "int32",
         "type": "integer"
        },
        {
         "name": "property_type_Townhouse",
         "rawType": "int32",
         "type": "integer"
        },
        {
         "name": "flood_risk_Low",
         "rawType": "int32",
         "type": "integer"
        },
        {
         "name": "flood_risk_Medium",
         "rawType": "int32",
         "type": "integer"
        },
        {
         "name": "purchase_decision_not buy",
         "rawType": "int32",
         "type": "integer"
        }
       ],
       "conversionMethod": "pd.DataFrame",
       "ref": "f5f436d2-c5f3-402d-addb-7fd857c01741",
       "rows": [
        [
         "0",
         "0.16439491254480057",
         "0.15000000000000008",
         "0.5840270551508846",
         "0.09285135842543045",
         "0.1721025575966225",
         "0",
         "0",
         "1",
         "0",
         "1",
         "0",
         "0",
         "0",
         "1",
         "0",
         "1"
        ],
        [
         "1",
         "0.13646881723470042",
         "0.015476190476190477",
         "0.5829864724245578",
         "0.10168540872979027",
         "0.2092367441049039",
         "0",
         "0",
         "1",
         "0",
         "0",
         "0",
         "0",
         "1",
         "0",
         "0",
         "0"
        ],
        [
         "2",
         "0.1710347048710152",
         "0.013095238095238104",
         "0.5052029136316337",
         "0.1608187218990117",
         "0.22709084969400495",
         "0",
         "0",
         "0",
         "0",
         "0",
         "0",
         "0",
         "1",
         "0",
         "0",
         "1"
        ],
        [
         "3",
         "0.2095318616216232",
         "0.1023809523809524",
         "0.31191467221644126",
         "0.12738536932813077",
         "0.23016476470313416",
         "0",
         "1",
         "0",
         "0",
         "1",
         "0",
         "0",
         "0",
         "0",
         "1",
         "0"
        ],
        [
         "4",
         "0.13225165460567473",
         "0.6226190476190476",
         "0.3566597294484912",
         "0.1479985409631181",
         "0.21862083494636905",
         "0",
         "1",
         "0",
         "0",
         "1",
         "0",
         "0",
         "0",
         "0",
         "0",
         "0"
        ]
       ],
       "shape": {
        "columns": 16,
        "rows": 5
       }
      },
      "text/html": [
       "<div>\n",
       "<style scoped>\n",
       "    .dataframe tbody tr th:only-of-type {\n",
       "        vertical-align: middle;\n",
       "    }\n",
       "\n",
       "    .dataframe tbody tr th {\n",
       "        vertical-align: top;\n",
       "    }\n",
       "\n",
       "    .dataframe thead th {\n",
       "        text-align: right;\n",
       "    }\n",
       "</style>\n",
       "<table border=\"1\" class=\"dataframe\">\n",
       "  <thead>\n",
       "    <tr style=\"text-align: right;\">\n",
       "      <th></th>\n",
       "      <th>income</th>\n",
       "      <th>credit_score</th>\n",
       "      <th>house_size</th>\n",
       "      <th>realtor_rating</th>\n",
       "      <th>crime_rate</th>\n",
       "      <th>location_industrial_area</th>\n",
       "      <th>location_rural</th>\n",
       "      <th>location_suburb</th>\n",
       "      <th>location_uptown</th>\n",
       "      <th>property_type_Multi-Family</th>\n",
       "      <th>property_type_Other</th>\n",
       "      <th>property_type_Single Family</th>\n",
       "      <th>property_type_Townhouse</th>\n",
       "      <th>flood_risk_Low</th>\n",
       "      <th>flood_risk_Medium</th>\n",
       "      <th>purchase_decision_not buy</th>\n",
       "    </tr>\n",
       "  </thead>\n",
       "  <tbody>\n",
       "    <tr>\n",
       "      <th>0</th>\n",
       "      <td>0.164395</td>\n",
       "      <td>0.150000</td>\n",
       "      <td>0.584027</td>\n",
       "      <td>0.092851</td>\n",
       "      <td>0.172103</td>\n",
       "      <td>0</td>\n",
       "      <td>0</td>\n",
       "      <td>1</td>\n",
       "      <td>0</td>\n",
       "      <td>1</td>\n",
       "      <td>0</td>\n",
       "      <td>0</td>\n",
       "      <td>0</td>\n",
       "      <td>1</td>\n",
       "      <td>0</td>\n",
       "      <td>1</td>\n",
       "    </tr>\n",
       "    <tr>\n",
       "      <th>1</th>\n",
       "      <td>0.136469</td>\n",
       "      <td>0.015476</td>\n",
       "      <td>0.582986</td>\n",
       "      <td>0.101685</td>\n",
       "      <td>0.209237</td>\n",
       "      <td>0</td>\n",
       "      <td>0</td>\n",
       "      <td>1</td>\n",
       "      <td>0</td>\n",
       "      <td>0</td>\n",
       "      <td>0</td>\n",
       "      <td>0</td>\n",
       "      <td>1</td>\n",
       "      <td>0</td>\n",
       "      <td>0</td>\n",
       "      <td>0</td>\n",
       "    </tr>\n",
       "    <tr>\n",
       "      <th>2</th>\n",
       "      <td>0.171035</td>\n",
       "      <td>0.013095</td>\n",
       "      <td>0.505203</td>\n",
       "      <td>0.160819</td>\n",
       "      <td>0.227091</td>\n",
       "      <td>0</td>\n",
       "      <td>0</td>\n",
       "      <td>0</td>\n",
       "      <td>0</td>\n",
       "      <td>0</td>\n",
       "      <td>0</td>\n",
       "      <td>0</td>\n",
       "      <td>1</td>\n",
       "      <td>0</td>\n",
       "      <td>0</td>\n",
       "      <td>1</td>\n",
       "    </tr>\n",
       "    <tr>\n",
       "      <th>3</th>\n",
       "      <td>0.209532</td>\n",
       "      <td>0.102381</td>\n",
       "      <td>0.311915</td>\n",
       "      <td>0.127385</td>\n",
       "      <td>0.230165</td>\n",
       "      <td>0</td>\n",
       "      <td>1</td>\n",
       "      <td>0</td>\n",
       "      <td>0</td>\n",
       "      <td>1</td>\n",
       "      <td>0</td>\n",
       "      <td>0</td>\n",
       "      <td>0</td>\n",
       "      <td>0</td>\n",
       "      <td>1</td>\n",
       "      <td>0</td>\n",
       "    </tr>\n",
       "    <tr>\n",
       "      <th>4</th>\n",
       "      <td>0.132252</td>\n",
       "      <td>0.622619</td>\n",
       "      <td>0.356660</td>\n",
       "      <td>0.147999</td>\n",
       "      <td>0.218621</td>\n",
       "      <td>0</td>\n",
       "      <td>1</td>\n",
       "      <td>0</td>\n",
       "      <td>0</td>\n",
       "      <td>1</td>\n",
       "      <td>0</td>\n",
       "      <td>0</td>\n",
       "      <td>0</td>\n",
       "      <td>0</td>\n",
       "      <td>0</td>\n",
       "      <td>0</td>\n",
       "    </tr>\n",
       "  </tbody>\n",
       "</table>\n",
       "</div>"
      ],
      "text/plain": [
       "     income  credit_score  house_size  realtor_rating  crime_rate  \\\n",
       "0  0.164395      0.150000    0.584027        0.092851    0.172103   \n",
       "1  0.136469      0.015476    0.582986        0.101685    0.209237   \n",
       "2  0.171035      0.013095    0.505203        0.160819    0.227091   \n",
       "3  0.209532      0.102381    0.311915        0.127385    0.230165   \n",
       "4  0.132252      0.622619    0.356660        0.147999    0.218621   \n",
       "\n",
       "   location_industrial_area  location_rural  location_suburb  location_uptown  \\\n",
       "0                         0               0                1                0   \n",
       "1                         0               0                1                0   \n",
       "2                         0               0                0                0   \n",
       "3                         0               1                0                0   \n",
       "4                         0               1                0                0   \n",
       "\n",
       "   property_type_Multi-Family  property_type_Other  \\\n",
       "0                           1                    0   \n",
       "1                           0                    0   \n",
       "2                           0                    0   \n",
       "3                           1                    0   \n",
       "4                           1                    0   \n",
       "\n",
       "   property_type_Single Family  property_type_Townhouse  flood_risk_Low  \\\n",
       "0                            0                        0               1   \n",
       "1                            0                        1               0   \n",
       "2                            0                        1               0   \n",
       "3                            0                        0               0   \n",
       "4                            0                        0               0   \n",
       "\n",
       "   flood_risk_Medium  purchase_decision_not buy  \n",
       "0                  0                          1  \n",
       "1                  0                          0  \n",
       "2                  0                          1  \n",
       "3                  1                          0  \n",
       "4                  0                          0  "
      ]
     },
     "execution_count": 15,
     "metadata": {},
     "output_type": "execute_result"
    }
   ],
   "source": [
    "# Use MinMaxScaler to scale the data\n",
    "minmax_scaler = MinMaxScaler()\n",
    "df[['income', 'credit_score', 'house_size', 'realtor_rating', 'crime_rate']] = minmax_scaler.fit_transform(df[['income', 'credit_score', 'house_size', 'realtor_rating', 'crime_rate']])\n",
    "df.head()"
   ]
  },
  {
   "cell_type": "code",
   "execution_count": 16,
   "metadata": {},
   "outputs": [],
   "source": [
    "df.dropna(inplace=True)\n",
    "df.reset_index(drop=True, inplace=True)"
   ]
  },
  {
   "cell_type": "code",
   "execution_count": 17,
   "metadata": {},
   "outputs": [],
   "source": [
    "# Split the data into features and target variable\n",
    "X = df.drop(['purchase_decision_not buy'], axis=1)\n",
    "y = df['purchase_decision_not buy']"
   ]
  },
  {
   "cell_type": "code",
   "execution_count": 23,
   "metadata": {},
   "outputs": [],
   "source": [
    "X_train, X_test, y_train, y_test = train_test_split(X, y, test_size=0.3, random_state=42, shuffle=True, stratify=y)"
   ]
  },
  {
   "cell_type": "code",
   "execution_count": 24,
   "metadata": {},
   "outputs": [
    {
     "name": "stdout",
     "output_type": "stream",
     "text": [
      "X_train: (682, 15)\n",
      "X_test: (293, 15)\n"
     ]
    }
   ],
   "source": [
    "print(f\"X_train: {X_train.shape}\")\n",
    "print(f\"X_test: {X_test.shape}\")"
   ]
  },
  {
   "cell_type": "code",
   "execution_count": 25,
   "metadata": {},
   "outputs": [
    {
     "data": {
      "text/plain": [
       "purchase_decision_not buy\n",
       "0    0.618768\n",
       "1    0.381232\n",
       "Name: proportion, dtype: float64"
      ]
     },
     "execution_count": 25,
     "metadata": {},
     "output_type": "execute_result"
    }
   ],
   "source": [
    "y_train.value_counts(normalize=True)"
   ]
  },
  {
   "cell_type": "code",
   "execution_count": 26,
   "metadata": {},
   "outputs": [],
   "source": [
    "# Build a Logistic Regression model\n",
    "lrBase = LogisticRegression(max_iter=1000)\n",
    "lrBase.fit(X_train, y_train)\n",
    "y_pred = lrBase.predict(X_test)"
   ]
  },
  {
   "cell_type": "code",
   "execution_count": 27,
   "metadata": {},
   "outputs": [
    {
     "data": {
      "image/png": "[encoded data removed]",
      "text/plain": [
       "<Figure size 640x480 with 2 Axes>"
      ]
     },
     "metadata": {},
     "output_type": "display_data"
    }
   ],
   "source": [
    "cm = confusion_matrix(y_test, y_pred)\n",
    "sns.heatmap(cm, annot=True, fmt='d', cmap='Blues')\n",
    "plt.xlabel('Predicted')\n",
    "plt.ylabel('True')\n",
    "plt.title(f'Confusion Matrix for Logistic Regression')\n",
    "plt.show()"
   ]
  },
  {
   "cell_type": "code",
   "execution_count": 33,
   "metadata": {},
   "outputs": [
    {
     "data": {
      "image/png": "[encoded data removed]",
      "text/plain": [
       "<Figure size 640x480 with 2 Axes>"
      ]
     },
     "metadata": {},
     "output_type": "display_data"
    }
   ],
   "source": [
    "# SVM Model\n",
    "svmBase = SVC(kernel='sigmoid', C=10, random_state=42)\n",
    "svmBase.fit(X_train, y_train)\n",
    "y_pred_svm = svmBase.predict(X_test)\n",
    "cm_svm = confusion_matrix(y_test, y_pred_svm)\n",
    "sns.heatmap(cm_svm, annot=True, fmt='d', cmap='Blues')\n",
    "plt.xlabel('Predicted')\n",
    "plt.ylabel('True')\n",
    "plt.title(f'Confusion Matrix for SVM')\n",
    "plt.show()"
   ]
  },
  {
   "cell_type": "code",
   "execution_count": 35,
   "metadata": {},
   "outputs": [
    {
     "data": {
      "text/plain": [
       "purchase_decision_not buy\n",
       "0    181\n",
       "1    112\n",
       "Name: count, dtype: int64"
      ]
     },
     "execution_count": 35,
     "metadata": {},
     "output_type": "execute_result"
    }
   ],
   "source": [
    "y_test.value_counts()"
   ]
  },
  {
   "cell_type": "code",
   "execution_count": null,
   "metadata": {},
   "outputs": [],
   "source": []
  }
 ],
 "metadata": {
  "kernelspec": {
   "display_name": "base",
   "language": "python",
   "name": "python3"
  },
  "language_info": {
   "codemirror_mode": {
    "name": "ipython",
    "version": 3
   },
   "file_extension": ".py",
   "mimetype": "text/x-python",
   "name": "python",
   "nbconvert_exporter": "python",
   "pygments_lexer": "ipython3",
   "version": "3.11.9"
  }
 },
 "nbformat": 4,
 "nbformat_minor": 2
}
